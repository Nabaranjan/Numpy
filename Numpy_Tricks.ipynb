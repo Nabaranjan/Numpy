{
  "nbformat": 4,
  "nbformat_minor": 0,
  "metadata": {
    "colab": {
      "provenance": [],
      "authorship_tag": "ABX9TyPQo7k+5b8cYL2DV2oDEAjF",
      "include_colab_link": true
    },
    "kernelspec": {
      "name": "python3",
      "display_name": "Python 3"
    },
    "language_info": {
      "name": "python"
    }
  },
  "cells": [
    {
      "cell_type": "markdown",
      "metadata": {
        "id": "view-in-github",
        "colab_type": "text"
      },
      "source": [
        "<a href=\"https://colab.research.google.com/github/Nabaranjan/Numpy/blob/main/Numpy_Tricks.ipynb\" target=\"_parent\"><img src=\"https://colab.research.google.com/assets/colab-badge.svg\" alt=\"Open In Colab\"/></a>"
      ]
    },
    {
      "cell_type": "markdown",
      "source": [
        "#np.sort"
      ],
      "metadata": {
        "id": "HqXX1AJNHgDN"
      }
    },
    {
      "cell_type": "code",
      "source": [
        "#code\n",
        "import numpy as np\n",
        "a = np.random.randint(1, 100, 15)\n",
        "a"
      ],
      "metadata": {
        "colab": {
          "base_uri": "https://localhost:8080/"
        },
        "id": "HhtVsCfnHk7Y",
        "outputId": "bf579d15-0b91-4748-e041-8eb802cb51a2"
      },
      "execution_count": 1,
      "outputs": [
        {
          "output_type": "execute_result",
          "data": {
            "text/plain": [
              "array([88,  7, 51, 17, 19, 52,  4, 74, 46, 96, 51, 30, 32, 33, 39])"
            ]
          },
          "metadata": {},
          "execution_count": 1
        }
      ]
    },
    {
      "cell_type": "code",
      "source": [
        "b = b = np.random.randint(1, 100, size=(6, 4))\n",
        "print(b)"
      ],
      "metadata": {
        "colab": {
          "base_uri": "https://localhost:8080/"
        },
        "id": "OqMJkeLAr2lS",
        "outputId": "de08f2fa-86cd-4826-8e85-c36e3ff5fb18"
      },
      "execution_count": 14,
      "outputs": [
        {
          "output_type": "stream",
          "name": "stdout",
          "text": [
            "[[21 35 11 46]\n",
            " [ 6 75 65 33]\n",
            " [55 65 50 31]\n",
            " [20 91  5 84]\n",
            " [99 99 59 73]\n",
            " [48 88 99  8]]\n"
          ]
        }
      ]
    },
    {
      "cell_type": "code",
      "source": [
        "np.sort(a)"
      ],
      "metadata": {
        "colab": {
          "base_uri": "https://localhost:8080/"
        },
        "id": "PTxJbvWPuIFf",
        "outputId": "b1864fa0-b2c7-490e-c57c-e2b1eb7a919f"
      },
      "execution_count": 15,
      "outputs": [
        {
          "output_type": "execute_result",
          "data": {
            "text/plain": [
              "array([ 4,  7, 17, 19, 30, 32, 33, 39, 46, 51, 51, 52, 74, 88, 96])"
            ]
          },
          "metadata": {},
          "execution_count": 15
        }
      ]
    },
    {
      "cell_type": "code",
      "source": [
        "np.sort(b)"
      ],
      "metadata": {
        "colab": {
          "base_uri": "https://localhost:8080/"
        },
        "id": "USY3GrkXuOnN",
        "outputId": "cf2fc3f2-e4c0-4186-8e91-e45893092be6"
      },
      "execution_count": 16,
      "outputs": [
        {
          "output_type": "execute_result",
          "data": {
            "text/plain": [
              "array([[11, 21, 35, 46],\n",
              "       [ 6, 33, 65, 75],\n",
              "       [31, 50, 55, 65],\n",
              "       [ 5, 20, 84, 91],\n",
              "       [59, 73, 99, 99],\n",
              "       [ 8, 48, 88, 99]])"
            ]
          },
          "metadata": {},
          "execution_count": 16
        }
      ]
    },
    {
      "cell_type": "markdown",
      "source": [
        "# np.append"
      ],
      "metadata": {
        "id": "w5FodxDGu0k2"
      }
    },
    {
      "cell_type": "code",
      "source": [
        "#code\n",
        "np.append(a,200)"
      ],
      "metadata": {
        "colab": {
          "base_uri": "https://localhost:8080/"
        },
        "id": "VaV6pd2iun29",
        "outputId": "ae041b00-64a3-4102-b8c7-7c7ed5333dbc"
      },
      "execution_count": 18,
      "outputs": [
        {
          "output_type": "execute_result",
          "data": {
            "text/plain": [
              "array([ 88,   7,  51,  17,  19,  52,   4,  74,  46,  96,  51,  30,  32,\n",
              "        33,  39, 200])"
            ]
          },
          "metadata": {},
          "execution_count": 18
        }
      ]
    },
    {
      "cell_type": "code",
      "source": [
        "b"
      ],
      "metadata": {
        "colab": {
          "base_uri": "https://localhost:8080/"
        },
        "id": "wdoaplkBvCsz",
        "outputId": "42a67842-351c-438b-831c-13961733e5f2"
      },
      "execution_count": 19,
      "outputs": [
        {
          "output_type": "execute_result",
          "data": {
            "text/plain": [
              "array([[21, 35, 11, 46],\n",
              "       [ 6, 75, 65, 33],\n",
              "       [55, 65, 50, 31],\n",
              "       [20, 91,  5, 84],\n",
              "       [99, 99, 59, 73],\n",
              "       [48, 88, 99,  8]])"
            ]
          },
          "metadata": {},
          "execution_count": 19
        }
      ]
    },
    {
      "cell_type": "code",
      "source": [
        "np.append(b,np.ones((b.shape[0],1)),axis=1)"
      ],
      "metadata": {
        "colab": {
          "base_uri": "https://localhost:8080/"
        },
        "id": "NW7BOOR9vGaP",
        "outputId": "0d806d11-ca0c-487a-f7a6-eef4d1a7f856"
      },
      "execution_count": 24,
      "outputs": [
        {
          "output_type": "execute_result",
          "data": {
            "text/plain": [
              "array([[21., 35., 11., 46.,  1.],\n",
              "       [ 6., 75., 65., 33.,  1.],\n",
              "       [55., 65., 50., 31.,  1.],\n",
              "       [20., 91.,  5., 84.,  1.],\n",
              "       [99., 99., 59., 73.,  1.],\n",
              "       [48., 88., 99.,  8.,  1.]])"
            ]
          },
          "metadata": {},
          "execution_count": 24
        }
      ]
    },
    {
      "cell_type": "code",
      "source": [
        "np.append(b,np.random.random((b.shape[0],1)),axis=1)"
      ],
      "metadata": {
        "colab": {
          "base_uri": "https://localhost:8080/"
        },
        "id": "-S1RKuYZxNOV",
        "outputId": "9dcdee47-47dc-4cf3-a24f-2094a0cac105"
      },
      "execution_count": 25,
      "outputs": [
        {
          "output_type": "execute_result",
          "data": {
            "text/plain": [
              "array([[21.        , 35.        , 11.        , 46.        ,  0.8197552 ],\n",
              "       [ 6.        , 75.        , 65.        , 33.        ,  0.53449055],\n",
              "       [55.        , 65.        , 50.        , 31.        ,  0.51069146],\n",
              "       [20.        , 91.        ,  5.        , 84.        ,  0.55441427],\n",
              "       [99.        , 99.        , 59.        , 73.        ,  0.77722132],\n",
              "       [48.        , 88.        , 99.        ,  8.        ,  0.12108745]])"
            ]
          },
          "metadata": {},
          "execution_count": 25
        }
      ]
    },
    {
      "cell_type": "markdown",
      "source": [
        "# np.concatenate"
      ],
      "metadata": {
        "id": "vRrVm5z0xZ3R"
      }
    },
    {
      "cell_type": "code",
      "source": [
        "# code\n",
        "c = np.arange(6).reshape(2,3)\n",
        "d = np.arange(6,12).reshape(2,3)\n",
        "\n",
        "print(c)\n",
        "print(d)"
      ],
      "metadata": {
        "colab": {
          "base_uri": "https://localhost:8080/"
        },
        "id": "B81RLMpGxVZo",
        "outputId": "a6923f48-98a4-4742-f670-c8c22b25eff6"
      },
      "execution_count": 26,
      "outputs": [
        {
          "output_type": "stream",
          "name": "stdout",
          "text": [
            "[[0 1 2]\n",
            " [3 4 5]]\n",
            "[[ 6  7  8]\n",
            " [ 9 10 11]]\n"
          ]
        }
      ]
    },
    {
      "cell_type": "code",
      "source": [
        "np.concatenate((c,d),axis=0)"
      ],
      "metadata": {
        "colab": {
          "base_uri": "https://localhost:8080/"
        },
        "id": "z5fM4zjax8Zk",
        "outputId": "762d33da-49fc-4707-8ed5-b12a13a56a52"
      },
      "execution_count": 27,
      "outputs": [
        {
          "output_type": "execute_result",
          "data": {
            "text/plain": [
              "array([[ 0,  1,  2],\n",
              "       [ 3,  4,  5],\n",
              "       [ 6,  7,  8],\n",
              "       [ 9, 10, 11]])"
            ]
          },
          "metadata": {},
          "execution_count": 27
        }
      ]
    },
    {
      "cell_type": "code",
      "source": [
        "np.concatenate((c,d),axis=1)"
      ],
      "metadata": {
        "colab": {
          "base_uri": "https://localhost:8080/"
        },
        "id": "YK8gGTI7yYtA",
        "outputId": "705d1196-c94c-4fe0-bfa3-f1b9681c2c5f"
      },
      "execution_count": 28,
      "outputs": [
        {
          "output_type": "execute_result",
          "data": {
            "text/plain": [
              "array([[ 0,  1,  2,  6,  7,  8],\n",
              "       [ 3,  4,  5,  9, 10, 11]])"
            ]
          },
          "metadata": {},
          "execution_count": 28
        }
      ]
    },
    {
      "cell_type": "markdown",
      "source": [
        "# np.unique"
      ],
      "metadata": {
        "id": "k2wrSudIzBtv"
      }
    },
    {
      "cell_type": "code",
      "source": [
        "#code\n",
        "\n",
        "e = np.array([1,1,2,2,3,3,4,4,5,5,6,6])\n",
        "f = np.array([[1,2,3,4],[1,2,3,2]])\n",
        "print(e)\n",
        "print(f)"
      ],
      "metadata": {
        "colab": {
          "base_uri": "https://localhost:8080/"
        },
        "id": "S__ovbi7ytMt",
        "outputId": "dcab119c-20cb-4f4b-ada7-07b29b01333d"
      },
      "execution_count": 29,
      "outputs": [
        {
          "output_type": "stream",
          "name": "stdout",
          "text": [
            "[1 1 2 2 3 3 4 4 5 5 6 6]\n",
            "[[1 2 3 4]\n",
            " [1 2 3 2]]\n"
          ]
        }
      ]
    },
    {
      "cell_type": "code",
      "source": [
        "np.unique(e)"
      ],
      "metadata": {
        "colab": {
          "base_uri": "https://localhost:8080/"
        },
        "id": "4s1rIdStzvqe",
        "outputId": "5090d5cf-f434-40e6-c449-e3bc77c5a4d0"
      },
      "execution_count": 30,
      "outputs": [
        {
          "output_type": "execute_result",
          "data": {
            "text/plain": [
              "array([1, 2, 3, 4, 5, 6])"
            ]
          },
          "metadata": {},
          "execution_count": 30
        }
      ]
    },
    {
      "cell_type": "markdown",
      "source": [
        "# np.expand_dims"
      ],
      "metadata": {
        "id": "hefUQD6N0QmR"
      }
    },
    {
      "cell_type": "code",
      "source": [
        "# code\n",
        "a"
      ],
      "metadata": {
        "colab": {
          "base_uri": "https://localhost:8080/"
        },
        "id": "kEyhNlvC0Mt8",
        "outputId": "154cf6d0-e535-4a10-e79e-7d5ea320e4b6"
      },
      "execution_count": 31,
      "outputs": [
        {
          "output_type": "execute_result",
          "data": {
            "text/plain": [
              "array([88,  7, 51, 17, 19, 52,  4, 74, 46, 96, 51, 30, 32, 33, 39])"
            ]
          },
          "metadata": {},
          "execution_count": 31
        }
      ]
    },
    {
      "cell_type": "code",
      "source": [
        "a.shape"
      ],
      "metadata": {
        "colab": {
          "base_uri": "https://localhost:8080/"
        },
        "id": "vtYJlJ2VFnij",
        "outputId": "5139f91a-b1bf-4864-83b7-c1915bab10d3"
      },
      "execution_count": 32,
      "outputs": [
        {
          "output_type": "execute_result",
          "data": {
            "text/plain": [
              "(15,)"
            ]
          },
          "metadata": {},
          "execution_count": 32
        }
      ]
    },
    {
      "cell_type": "code",
      "source": [
        "np.expand_dims(a,axis=0)"
      ],
      "metadata": {
        "colab": {
          "base_uri": "https://localhost:8080/"
        },
        "id": "8uyyfh1yFdH0",
        "outputId": "1c040058-f88b-4757-be61-eb7a8c5d7df9"
      },
      "execution_count": 34,
      "outputs": [
        {
          "output_type": "execute_result",
          "data": {
            "text/plain": [
              "array([[88,  7, 51, 17, 19, 52,  4, 74, 46, 96, 51, 30, 32, 33, 39]])"
            ]
          },
          "metadata": {},
          "execution_count": 34
        }
      ]
    },
    {
      "cell_type": "code",
      "source": [
        "np.expand_dims(a,axis=0).shape"
      ],
      "metadata": {
        "colab": {
          "base_uri": "https://localhost:8080/"
        },
        "id": "ClQzm_AeF8Dy",
        "outputId": "1623fb08-b82f-498e-a2ce-f0e7d2522e22"
      },
      "execution_count": 35,
      "outputs": [
        {
          "output_type": "execute_result",
          "data": {
            "text/plain": [
              "(1, 15)"
            ]
          },
          "metadata": {},
          "execution_count": 35
        }
      ]
    },
    {
      "cell_type": "markdown",
      "source": [
        "# np.where"
      ],
      "metadata": {
        "id": "6mp4jjTMHxRZ"
      }
    },
    {
      "cell_type": "code",
      "source": [
        "a"
      ],
      "metadata": {
        "colab": {
          "base_uri": "https://localhost:8080/"
        },
        "id": "WDOtHVV0GAbj",
        "outputId": "fe5823b9-2164-4b40-b917-2a063e0ac327"
      },
      "execution_count": 36,
      "outputs": [
        {
          "output_type": "execute_result",
          "data": {
            "text/plain": [
              "array([88,  7, 51, 17, 19, 52,  4, 74, 46, 96, 51, 30, 32, 33, 39])"
            ]
          },
          "metadata": {},
          "execution_count": 36
        }
      ]
    },
    {
      "cell_type": "code",
      "source": [
        "# find all indices with value greater than 50\n",
        "\n",
        "np.where(a>50)"
      ],
      "metadata": {
        "colab": {
          "base_uri": "https://localhost:8080/"
        },
        "id": "JpyJECq5JUnF",
        "outputId": "53d3aa77-da3a-447f-ad31-68bb65797385"
      },
      "execution_count": 37,
      "outputs": [
        {
          "output_type": "execute_result",
          "data": {
            "text/plain": [
              "(array([ 0,  2,  5,  7,  9, 10]),)"
            ]
          },
          "metadata": {},
          "execution_count": 37
        }
      ]
    },
    {
      "cell_type": "code",
      "source": [
        "np.where(a>50,0,a)"
      ],
      "metadata": {
        "colab": {
          "base_uri": "https://localhost:8080/"
        },
        "id": "3b9UAvZiJtQA",
        "outputId": "f7248f1e-0d05-4876-dcf9-0ce8083d0fbd"
      },
      "execution_count": 39,
      "outputs": [
        {
          "output_type": "execute_result",
          "data": {
            "text/plain": [
              "array([ 0,  7,  0, 17, 19,  0,  4,  0, 46,  0,  0, 30, 32, 33, 39])"
            ]
          },
          "metadata": {},
          "execution_count": 39
        }
      ]
    },
    {
      "cell_type": "code",
      "source": [
        "np.where(a%2 == 0,0,a)"
      ],
      "metadata": {
        "colab": {
          "base_uri": "https://localhost:8080/"
        },
        "id": "KEHl_3sQKOEO",
        "outputId": "77c14ba9-162e-45c4-e9c8-5c8a84f90038"
      },
      "execution_count": 40,
      "outputs": [
        {
          "output_type": "execute_result",
          "data": {
            "text/plain": [
              "array([ 0,  7, 51, 17, 19,  0,  0,  0,  0,  0, 51,  0,  0, 33, 39])"
            ]
          },
          "metadata": {},
          "execution_count": 40
        }
      ]
    },
    {
      "cell_type": "markdown",
      "source": [
        "# np.argmax"
      ],
      "metadata": {
        "id": "tItZ-EsSMR3O"
      }
    },
    {
      "cell_type": "code",
      "source": [
        "# code\n",
        "a"
      ],
      "metadata": {
        "colab": {
          "base_uri": "https://localhost:8080/"
        },
        "id": "WrQYndhIL0mq",
        "outputId": "486f0229-085e-49f5-dac1-98db3a2a89d7"
      },
      "execution_count": 42,
      "outputs": [
        {
          "output_type": "execute_result",
          "data": {
            "text/plain": [
              "array([88,  7, 51, 17, 19, 52,  4, 74, 46, 96, 51, 30, 32, 33, 39])"
            ]
          },
          "metadata": {},
          "execution_count": 42
        }
      ]
    },
    {
      "cell_type": "code",
      "source": [
        "np.argmax(a)"
      ],
      "metadata": {
        "colab": {
          "base_uri": "https://localhost:8080/"
        },
        "id": "sU48ieZhMkjp",
        "outputId": "501e21ab-630f-472c-e60d-35acdfd45347"
      },
      "execution_count": 43,
      "outputs": [
        {
          "output_type": "execute_result",
          "data": {
            "text/plain": [
              "9"
            ]
          },
          "metadata": {},
          "execution_count": 43
        }
      ]
    },
    {
      "cell_type": "code",
      "source": [
        "np.argmax(b,axis=0)"
      ],
      "metadata": {
        "colab": {
          "base_uri": "https://localhost:8080/"
        },
        "id": "GASt8vYLNBws",
        "outputId": "22ea2745-944e-4443-8063-88a72f27fdd7"
      },
      "execution_count": 44,
      "outputs": [
        {
          "output_type": "execute_result",
          "data": {
            "text/plain": [
              "array([4, 4, 5, 3])"
            ]
          },
          "metadata": {},
          "execution_count": 44
        }
      ]
    },
    {
      "cell_type": "code",
      "source": [
        "# np.argmin\n",
        "\n",
        "np.argmin(a)"
      ],
      "metadata": {
        "colab": {
          "base_uri": "https://localhost:8080/"
        },
        "id": "J2miEQMAO5IB",
        "outputId": "626011f2-cc67-4717-90e4-04c2b528b1d2"
      },
      "execution_count": 45,
      "outputs": [
        {
          "output_type": "execute_result",
          "data": {
            "text/plain": [
              "6"
            ]
          },
          "metadata": {},
          "execution_count": 45
        }
      ]
    },
    {
      "cell_type": "markdown",
      "source": [
        "# np.cumsum"
      ],
      "metadata": {
        "id": "xd7lNiXPPzXZ"
      }
    },
    {
      "cell_type": "code",
      "source": [
        "a"
      ],
      "metadata": {
        "colab": {
          "base_uri": "https://localhost:8080/"
        },
        "id": "rPldVXE8PxYb",
        "outputId": "aeb3cfa2-0f99-44ef-f292-c87a0c5bea89"
      },
      "execution_count": 46,
      "outputs": [
        {
          "output_type": "execute_result",
          "data": {
            "text/plain": [
              "array([88,  7, 51, 17, 19, 52,  4, 74, 46, 96, 51, 30, 32, 33, 39])"
            ]
          },
          "metadata": {},
          "execution_count": 46
        }
      ]
    },
    {
      "cell_type": "code",
      "source": [
        "np.cumsum(a)"
      ],
      "metadata": {
        "colab": {
          "base_uri": "https://localhost:8080/"
        },
        "id": "NjuR5_QzQr2j",
        "outputId": "1811809c-7eae-4d80-aca9-c86e8a35058c"
      },
      "execution_count": 47,
      "outputs": [
        {
          "output_type": "execute_result",
          "data": {
            "text/plain": [
              "array([ 88,  95, 146, 163, 182, 234, 238, 312, 358, 454, 505, 535, 567,\n",
              "       600, 639])"
            ]
          },
          "metadata": {},
          "execution_count": 47
        }
      ]
    },
    {
      "cell_type": "code",
      "source": [
        "# np.cumprod\n",
        "np.cumprod(a)"
      ],
      "metadata": {
        "colab": {
          "base_uri": "https://localhost:8080/"
        },
        "id": "npuEdzipTlcq",
        "outputId": "a4314487-4e96-46a1-c1d3-8e5a4591ef35"
      },
      "execution_count": 48,
      "outputs": [
        {
          "output_type": "execute_result",
          "data": {
            "text/plain": [
              "array([                  88,                  616,                31416,\n",
              "                     534072,             10147368,            527663136,\n",
              "                 2110652544,         156188288256,        7184661259776,\n",
              "            689727480938496,    35176101527863296,  1055283045835898880,\n",
              "       -3124430680670339072,  7574251980136120320,   247922045955866624])"
            ]
          },
          "metadata": {},
          "execution_count": 48
        }
      ]
    },
    {
      "cell_type": "markdown",
      "source": [
        "# np.percentile"
      ],
      "metadata": {
        "id": "1_CwnbjqT8AN"
      }
    },
    {
      "cell_type": "code",
      "source": [
        "a"
      ],
      "metadata": {
        "colab": {
          "base_uri": "https://localhost:8080/"
        },
        "id": "gpIEnzMpTvJL",
        "outputId": "8fd67554-db78-4fca-c827-cec0fd9cc5ae"
      },
      "execution_count": 49,
      "outputs": [
        {
          "output_type": "execute_result",
          "data": {
            "text/plain": [
              "array([88,  7, 51, 17, 19, 52,  4, 74, 46, 96, 51, 30, 32, 33, 39])"
            ]
          },
          "metadata": {},
          "execution_count": 49
        }
      ]
    },
    {
      "cell_type": "code",
      "source": [
        "np.percentile(a,0)"
      ],
      "metadata": {
        "colab": {
          "base_uri": "https://localhost:8080/"
        },
        "id": "BnTnah3xUe0d",
        "outputId": "c2395a04-0ea1-42db-b602-ad88d0016b1e"
      },
      "execution_count": 50,
      "outputs": [
        {
          "output_type": "execute_result",
          "data": {
            "text/plain": [
              "4.0"
            ]
          },
          "metadata": {},
          "execution_count": 50
        }
      ]
    },
    {
      "cell_type": "code",
      "source": [
        "np.percentile(a,50)"
      ],
      "metadata": {
        "colab": {
          "base_uri": "https://localhost:8080/"
        },
        "id": "lLse4yIdUlwX",
        "outputId": "13970e87-fbe6-4f6f-df37-30b2b9ab853e"
      },
      "execution_count": 51,
      "outputs": [
        {
          "output_type": "execute_result",
          "data": {
            "text/plain": [
              "39.0"
            ]
          },
          "metadata": {},
          "execution_count": 51
        }
      ]
    },
    {
      "cell_type": "code",
      "source": [
        "np.median(a)"
      ],
      "metadata": {
        "colab": {
          "base_uri": "https://localhost:8080/"
        },
        "id": "qSEEVwx-Uygp",
        "outputId": "8a63b98b-6cc6-4122-ada1-ed6505a872cf"
      },
      "execution_count": 52,
      "outputs": [
        {
          "output_type": "execute_result",
          "data": {
            "text/plain": [
              "39.0"
            ]
          },
          "metadata": {},
          "execution_count": 52
        }
      ]
    },
    {
      "cell_type": "markdown",
      "source": [
        "# np.histogram"
      ],
      "metadata": {
        "id": "ZEaA55--VSi7"
      }
    },
    {
      "cell_type": "code",
      "source": [
        "# code\n",
        "a\n"
      ],
      "metadata": {
        "colab": {
          "base_uri": "https://localhost:8080/"
        },
        "id": "zYf2QGqfU2kt",
        "outputId": "f5f52424-fa54-4b67-d641-a26f1c13eb7d"
      },
      "execution_count": 53,
      "outputs": [
        {
          "output_type": "execute_result",
          "data": {
            "text/plain": [
              "array([88,  7, 51, 17, 19, 52,  4, 74, 46, 96, 51, 30, 32, 33, 39])"
            ]
          },
          "metadata": {},
          "execution_count": 53
        }
      ]
    },
    {
      "cell_type": "code",
      "source": [
        "np.histogram(a,bins=[0,10,20,30,40,50,60,70,80,90,100])\n"
      ],
      "metadata": {
        "colab": {
          "base_uri": "https://localhost:8080/"
        },
        "id": "3gNCex73WQL_",
        "outputId": "392d7bc1-dea0-4520-cc1b-ff7d7d0befce"
      },
      "execution_count": 57,
      "outputs": [
        {
          "output_type": "execute_result",
          "data": {
            "text/plain": [
              "(array([2, 2, 0, 4, 1, 3, 0, 1, 1, 1]),\n",
              " array([  0,  10,  20,  30,  40,  50,  60,  70,  80,  90, 100]))"
            ]
          },
          "metadata": {},
          "execution_count": 57
        }
      ]
    },
    {
      "cell_type": "code",
      "source": [
        "np.histogram(a,bins=[0, 50, 100])"
      ],
      "metadata": {
        "colab": {
          "base_uri": "https://localhost:8080/"
        },
        "id": "JQT7HFukW8sb",
        "outputId": "28703b19-e88a-4ef0-9b27-5dc1e1d3029c"
      },
      "execution_count": 58,
      "outputs": [
        {
          "output_type": "execute_result",
          "data": {
            "text/plain": [
              "(array([9, 6]), array([  0,  50, 100]))"
            ]
          },
          "metadata": {},
          "execution_count": 58
        }
      ]
    },
    {
      "cell_type": "markdown",
      "source": [
        "# np.corrcoef"
      ],
      "metadata": {
        "id": "1ZwVXSgZXFjw"
      }
    },
    {
      "cell_type": "code",
      "source": [
        "salary = np.array([20000,40000,25000,35000,60000])\n",
        "experience =np.array([1,3,2,4,2])\n",
        "\n",
        "np.corrcoef(salary,experience)"
      ],
      "metadata": {
        "colab": {
          "base_uri": "https://localhost:8080/"
        },
        "id": "YfWcN3IrXEe2",
        "outputId": "fe047174-34cd-4df2-9137-4d6115fb4043"
      },
      "execution_count": 59,
      "outputs": [
        {
          "output_type": "execute_result",
          "data": {
            "text/plain": [
              "array([[1.        , 0.25344572],\n",
              "       [0.25344572, 1.        ]])"
            ]
          },
          "metadata": {},
          "execution_count": 59
        }
      ]
    },
    {
      "cell_type": "markdown",
      "source": [
        "# np.isin"
      ],
      "metadata": {
        "id": "y9JS6M78iw6c"
      }
    },
    {
      "cell_type": "code",
      "source": [
        "a"
      ],
      "metadata": {
        "colab": {
          "base_uri": "https://localhost:8080/"
        },
        "id": "N58v7MfwiPMG",
        "outputId": "f04153b8-73d1-4147-92c3-3972d25b1696"
      },
      "execution_count": 60,
      "outputs": [
        {
          "output_type": "execute_result",
          "data": {
            "text/plain": [
              "array([88,  7, 51, 17, 19, 52,  4, 74, 46, 96, 51, 30, 32, 33, 39])"
            ]
          },
          "metadata": {},
          "execution_count": 60
        }
      ]
    },
    {
      "cell_type": "code",
      "source": [
        "items = [10,20,30,40,50,60,70,80,90,100]\n",
        "\n",
        "a[np.isin(a,items)]"
      ],
      "metadata": {
        "colab": {
          "base_uri": "https://localhost:8080/"
        },
        "id": "-ua2Dh93kJF-",
        "outputId": "58d9656c-fd04-4d3f-d120-dceef56547d3"
      },
      "execution_count": 61,
      "outputs": [
        {
          "output_type": "execute_result",
          "data": {
            "text/plain": [
              "array([30])"
            ]
          },
          "metadata": {},
          "execution_count": 61
        }
      ]
    },
    {
      "cell_type": "markdown",
      "source": [
        "# np.flip"
      ],
      "metadata": {
        "id": "MFqVbMIqlDDU"
      }
    },
    {
      "cell_type": "code",
      "source": [
        "a"
      ],
      "metadata": {
        "colab": {
          "base_uri": "https://localhost:8080/"
        },
        "id": "0-ozrdhrlBXw",
        "outputId": "d3d2d58d-e1a5-44a3-83a7-e34b6ac27f56"
      },
      "execution_count": 62,
      "outputs": [
        {
          "output_type": "execute_result",
          "data": {
            "text/plain": [
              "array([88,  7, 51, 17, 19, 52,  4, 74, 46, 96, 51, 30, 32, 33, 39])"
            ]
          },
          "metadata": {},
          "execution_count": 62
        }
      ]
    },
    {
      "cell_type": "code",
      "source": [
        "np.flip(a)"
      ],
      "metadata": {
        "colab": {
          "base_uri": "https://localhost:8080/"
        },
        "id": "yyn7-uADmxgI",
        "outputId": "6fd7c075-ed8d-44b7-8347-fd7fe4681cfe"
      },
      "execution_count": 63,
      "outputs": [
        {
          "output_type": "execute_result",
          "data": {
            "text/plain": [
              "array([39, 33, 32, 30, 51, 96, 46, 74,  4, 52, 19, 17, 51,  7, 88])"
            ]
          },
          "metadata": {},
          "execution_count": 63
        }
      ]
    },
    {
      "cell_type": "code",
      "source": [
        "b"
      ],
      "metadata": {
        "colab": {
          "base_uri": "https://localhost:8080/"
        },
        "id": "ZIA3dUXnm8Ei",
        "outputId": "5ca7e21c-ba1a-46c1-abc5-e6e79b65b999"
      },
      "execution_count": 64,
      "outputs": [
        {
          "output_type": "execute_result",
          "data": {
            "text/plain": [
              "array([[21, 35, 11, 46],\n",
              "       [ 6, 75, 65, 33],\n",
              "       [55, 65, 50, 31],\n",
              "       [20, 91,  5, 84],\n",
              "       [99, 99, 59, 73],\n",
              "       [48, 88, 99,  8]])"
            ]
          },
          "metadata": {},
          "execution_count": 64
        }
      ]
    },
    {
      "cell_type": "code",
      "source": [
        "np.flip(b)"
      ],
      "metadata": {
        "colab": {
          "base_uri": "https://localhost:8080/"
        },
        "id": "hhSDM_Oym-IG",
        "outputId": "7e9ffd45-f619-4b8e-97e2-578820a6bc8e"
      },
      "execution_count": 65,
      "outputs": [
        {
          "output_type": "execute_result",
          "data": {
            "text/plain": [
              "array([[ 8, 99, 88, 48],\n",
              "       [73, 59, 99, 99],\n",
              "       [84,  5, 91, 20],\n",
              "       [31, 50, 65, 55],\n",
              "       [33, 65, 75,  6],\n",
              "       [46, 11, 35, 21]])"
            ]
          },
          "metadata": {},
          "execution_count": 65
        }
      ]
    },
    {
      "cell_type": "markdown",
      "source": [
        "# np.put"
      ],
      "metadata": {
        "id": "ooguxYT6nPDF"
      }
    },
    {
      "cell_type": "code",
      "source": [
        "a"
      ],
      "metadata": {
        "colab": {
          "base_uri": "https://localhost:8080/"
        },
        "id": "kbD4ro0wnOTd",
        "outputId": "89383a42-b001-4cea-8e96-c3bc1b6d685e"
      },
      "execution_count": 69,
      "outputs": [
        {
          "output_type": "execute_result",
          "data": {
            "text/plain": [
              "array([110, 530,  51,  17,  19,  52,   4,  74,  46,  96,  51,  30,  32,\n",
              "        33,  39])"
            ]
          },
          "metadata": {},
          "execution_count": 69
        }
      ]
    },
    {
      "cell_type": "code",
      "source": [
        "np.put(a,[0,1],[110,530])"
      ],
      "metadata": {
        "id": "amlr4KWkncei"
      },
      "execution_count": 68,
      "outputs": []
    },
    {
      "cell_type": "markdown",
      "source": [
        "# np.delete"
      ],
      "metadata": {
        "id": "ew5KqXZVn1vu"
      }
    },
    {
      "cell_type": "code",
      "source": [
        "a"
      ],
      "metadata": {
        "colab": {
          "base_uri": "https://localhost:8080/"
        },
        "id": "uOaO3SMknv9m",
        "outputId": "c333381b-ceed-4919-d690-a4995a72e436"
      },
      "execution_count": 70,
      "outputs": [
        {
          "output_type": "execute_result",
          "data": {
            "text/plain": [
              "array([110, 530,  51,  17,  19,  52,   4,  74,  46,  96,  51,  30,  32,\n",
              "        33,  39])"
            ]
          },
          "metadata": {},
          "execution_count": 70
        }
      ]
    },
    {
      "cell_type": "code",
      "source": [
        "np.delete(a,[0,1,2])"
      ],
      "metadata": {
        "colab": {
          "base_uri": "https://localhost:8080/"
        },
        "id": "Q_ptx0iYn-Ju",
        "outputId": "488d7b60-ffbe-496a-db8c-ea3d33928b04"
      },
      "execution_count": 73,
      "outputs": [
        {
          "output_type": "execute_result",
          "data": {
            "text/plain": [
              "array([17, 19, 52,  4, 74, 46, 96, 51, 30, 32, 33, 39])"
            ]
          },
          "metadata": {},
          "execution_count": 73
        }
      ]
    },
    {
      "cell_type": "markdown",
      "source": [
        "# Set Function\n",
        "\n",
        "\n",
        "\n",
        "1.   np.union1d\n",
        "2.   np.intersect1d\n",
        "3.   np.setdiff1d\n",
        "4.   np.setxor1d\n",
        "5.   np.in1d\n",
        "\n",
        "\n",
        "\n",
        "\n"
      ],
      "metadata": {
        "id": "N6nPjXPWpKa4"
      }
    },
    {
      "cell_type": "code",
      "source": [
        "m = np.array([1,2,3,4,5])\n",
        "n = np.array([3,4,5,6,7])\n",
        "\n",
        "np.union1d(m,n)"
      ],
      "metadata": {
        "colab": {
          "base_uri": "https://localhost:8080/"
        },
        "id": "2Wf_YXlLo2c4",
        "outputId": "a8a1a8e5-8193-4bc2-f28e-5cd04294d131"
      },
      "execution_count": 74,
      "outputs": [
        {
          "output_type": "execute_result",
          "data": {
            "text/plain": [
              "array([1, 2, 3, 4, 5, 6, 7])"
            ]
          },
          "metadata": {},
          "execution_count": 74
        }
      ]
    },
    {
      "cell_type": "code",
      "source": [
        "np.intersect1d(m,n)"
      ],
      "metadata": {
        "colab": {
          "base_uri": "https://localhost:8080/"
        },
        "id": "4mvZxhQzqDzt",
        "outputId": "bdad55b2-5358-4768-b506-757b9a3d7402"
      },
      "execution_count": 75,
      "outputs": [
        {
          "output_type": "execute_result",
          "data": {
            "text/plain": [
              "array([3, 4, 5])"
            ]
          },
          "metadata": {},
          "execution_count": 75
        }
      ]
    },
    {
      "cell_type": "code",
      "source": [
        "np.setdiff1d(m,n)"
      ],
      "metadata": {
        "colab": {
          "base_uri": "https://localhost:8080/"
        },
        "id": "4VddYJMsqcjs",
        "outputId": "6464691a-9eb1-458d-d9ab-a67d5a5aff34"
      },
      "execution_count": 76,
      "outputs": [
        {
          "output_type": "execute_result",
          "data": {
            "text/plain": [
              "array([1, 2])"
            ]
          },
          "metadata": {},
          "execution_count": 76
        }
      ]
    },
    {
      "cell_type": "code",
      "source": [
        "np.setxor1d(m,n)"
      ],
      "metadata": {
        "colab": {
          "base_uri": "https://localhost:8080/"
        },
        "id": "CsNHtC_prtpF",
        "outputId": "4c409397-a565-4bb7-b20c-f0e75eac8936"
      },
      "execution_count": 77,
      "outputs": [
        {
          "output_type": "execute_result",
          "data": {
            "text/plain": [
              "array([1, 2, 6, 7])"
            ]
          },
          "metadata": {},
          "execution_count": 77
        }
      ]
    },
    {
      "cell_type": "code",
      "source": [
        "m[np.in1d(m,1)]"
      ],
      "metadata": {
        "colab": {
          "base_uri": "https://localhost:8080/"
        },
        "id": "mVHdk035rz6J",
        "outputId": "3454220c-8d60-495f-e854-c97e23e6a099"
      },
      "execution_count": 80,
      "outputs": [
        {
          "output_type": "execute_result",
          "data": {
            "text/plain": [
              "array([1])"
            ]
          },
          "metadata": {},
          "execution_count": 80
        }
      ]
    },
    {
      "cell_type": "markdown",
      "source": [
        "# np.clip"
      ],
      "metadata": {
        "id": "UcL3Ng7iqmkq"
      }
    },
    {
      "cell_type": "code",
      "source": [
        "a"
      ],
      "metadata": {
        "colab": {
          "base_uri": "https://localhost:8080/"
        },
        "id": "seYeD4iMqqB0",
        "outputId": "0b0bf783-de77-4683-aef4-924cd5c51ea7"
      },
      "execution_count": 81,
      "outputs": [
        {
          "output_type": "execute_result",
          "data": {
            "text/plain": [
              "array([110, 530,  51,  17,  19,  52,   4,  74,  46,  96,  51,  30,  32,\n",
              "        33,  39])"
            ]
          },
          "metadata": {},
          "execution_count": 81
        }
      ]
    },
    {
      "cell_type": "code",
      "source": [
        "np.clip(a,a_min=25,a_max=75)"
      ],
      "metadata": {
        "colab": {
          "base_uri": "https://localhost:8080/"
        },
        "id": "uOeO57ADwS4d",
        "outputId": "86537edb-c1de-4694-8927-6b47b9fd4582"
      },
      "execution_count": 82,
      "outputs": [
        {
          "output_type": "execute_result",
          "data": {
            "text/plain": [
              "array([75, 75, 51, 25, 25, 52, 25, 74, 46, 75, 51, 30, 32, 33, 39])"
            ]
          },
          "metadata": {},
          "execution_count": 82
        }
      ]
    }
  ]
}